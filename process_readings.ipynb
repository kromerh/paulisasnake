{
 "cells": [
  {
   "cell_type": "code",
   "execution_count": null,
   "metadata": {},
   "outputs": [],
   "source": [
    "import pandas as pd\n",
    "import numpy as np\n",
    "import matplotlib.pyplot as plt\n",
    "# import data\n",
    "data = pd.read_csv('/Users/hkromer/01_Projects/07_IoT_Paul/data/2019-12-29.data.csv', index_col=0)\n",
    "data['time'] = pd.to_datetime(data['time'])\n",
    "data.head()"
   ]
  },
  {
   "cell_type": "code",
   "execution_count": null,
   "metadata": {},
   "outputs": [],
   "source": [
    "# store temperature and humidity separately\n",
    "data_temp = data[['time', 'utc_time', 'temp']]\n",
    "data_temp = data_temp[data_temp['temp'] > -100]\n",
    "\n",
    "data_humid = data[['time', 'utc_time', 'humid']]\n",
    "data_humid = data_humid[data_humid['humid'] > -100]\n",
    "\n",
    "data_temp = data_temp.sort_values(by='time')\n",
    "data_humid = data_humid.sort_values(by='time')"
   ]
  },
  {
   "cell_type": "code",
   "execution_count": null,
   "metadata": {},
   "outputs": [],
   "source": [
    "# data_humid.set_index('time', inplace=True)\n",
    "h_mean = data_humid['humid'].rolling(30).mean()\n",
    "plt.plot(data_temp['time'].values,data_temp['temp'].values)\n",
    "plt.plot(data_humid.index.values,data_humid['humid'].values)\n",
    "plt.plot(h_mean.index.values,h_mean.values)\n",
    "# plt.xlim(\"2019-12-10 09:00:00\",\"2019-12-10 11:00:00\")\n"
   ]
  },
  {
   "cell_type": "code",
   "execution_count": 106,
   "metadata": {},
   "outputs": [],
   "source": [
    "def filter_data(delta, data, col):\n",
    "    \"\"\"\n",
    "    Filters the dataset by keeping only those datapoints that deviate more than delta from the \n",
    "    previous one.\n",
    "    Returns a pandas dataframe\n",
    "    \"\"\"\n",
    "    data_return = pd.DataFrame()\n",
    "    data_return['time'] = data['time'].copy()\n",
    "    data_return['utc_time'] = data['utc_time'].copy()\n",
    "    \n",
    "    # copy temp or humid\n",
    "    data_return[col] = data[col].copy()\n",
    "    \n",
    "    # shift by 1 and -1\n",
    "    data_return[f'{col}_p1'] = data_return[col].shift(-1)\n",
    "    \n",
    "    # rolling mean. sampling frequency is around 10 seconds, to take rolling mean of 30 (5 min)\n",
    "#     data_return[f'{col}_mean'] = data_return[col].rolling(30).mean()\n",
    "    \n",
    "    # create mask if the value is larger than the delta compared to the value before and after\n",
    "    data_return['diff'] = np.abs(data_return[f'{col}_p1'] - data_return[col])\n",
    "    \n",
    "    data_return['mask'] =  (data_return['diff'] >= delta) \n",
    "    data_return = data_return[data_return['mask']]\n",
    "    \n",
    "    data_return = data_return[['utc_time','time',col]]\n",
    "#     print(data_return.head(20))\n",
    "    return data_return\n",
    "\n"
   ]
  },
  {
   "cell_type": "code",
   "execution_count": 107,
   "metadata": {},
   "outputs": [
    {
     "data": {
      "text/plain": [
       "((1583, 3), (170143, 3))"
      ]
     },
     "execution_count": 107,
     "metadata": {},
     "output_type": "execute_result"
    },
    {
     "data": {
      "image/png": "[encoded data removed]",
      "text/plain": [
       "<Figure size 720x432 with 1 Axes>"
      ]
     },
     "metadata": {
      "needs_background": "light"
     },
     "output_type": "display_data"
    }
   ],
   "source": [
    "df = filter_data(0.05, data_temp, 'temp')\n",
    "fig,ax = plt.subplots(figsize=(10,6))\n",
    "plt.plot(df['time'].values,df['temp'].values)\n",
    "plt.plot(data_temp['time'].values,data_temp['temp'].values)\n",
    "\n",
    "plt.xlim(\"2019-12-17 05:00:00\",\"2019-12-18 07:00:00\")\n",
    "df.shape, data_temp.shape"
   ]
  },
  {
   "cell_type": "code",
   "execution_count": null,
   "metadata": {},
   "outputs": [],
   "source": [
    "df = filter_data(0.1, data_humid, 'humid')\n",
    "\n",
    "fig,ax = plt.subplots(figsize=(10,6))\n",
    "plt.plot(df['time'].values,df['humid'].values)\n",
    "plt.plot(data_humid['time'].values,data_humid['humid'].values)\n",
    "\n",
    "# plt.xlim(\"2019-12-17 05:00:00\",\"2019-12-18 07:00:00\")\n",
    "df.shape, data_humid.shape"
   ]
  },
  {
   "cell_type": "code",
   "execution_count": 108,
   "metadata": {},
   "outputs": [
    {
     "data": {
      "text/html": [
       "<div>\n",
       "<style scoped>\n",
       "    .dataframe tbody tr th:only-of-type {\n",
       "        vertical-align: middle;\n",
       "    }\n",
       "\n",
       "    .dataframe tbody tr th {\n",
       "        vertical-align: top;\n",
       "    }\n",
       "\n",
       "    .dataframe thead th {\n",
       "        text-align: right;\n",
       "    }\n",
       "</style>\n",
       "<table border=\"1\" class=\"dataframe\">\n",
       "  <thead>\n",
       "    <tr style=\"text-align: right;\">\n",
       "      <th></th>\n",
       "      <th>utc_time</th>\n",
       "      <th>time</th>\n",
       "      <th>temp</th>\n",
       "    </tr>\n",
       "  </thead>\n",
       "  <tbody>\n",
       "    <tr>\n",
       "      <td>27</td>\n",
       "      <td>1575833151504</td>\n",
       "      <td>2019-12-08 19:25:51.504</td>\n",
       "      <td>25.219999</td>\n",
       "    </tr>\n",
       "    <tr>\n",
       "      <td>11</td>\n",
       "      <td>1575833311504</td>\n",
       "      <td>2019-12-08 19:28:31.504</td>\n",
       "      <td>25.219999</td>\n",
       "    </tr>\n",
       "    <tr>\n",
       "      <td>34</td>\n",
       "      <td>1575833678670</td>\n",
       "      <td>2019-12-08 19:34:38.670</td>\n",
       "      <td>25.219999</td>\n",
       "    </tr>\n",
       "    <tr>\n",
       "      <td>323</td>\n",
       "      <td>1575836631311</td>\n",
       "      <td>2019-12-08 20:23:51.311</td>\n",
       "      <td>25.270000</td>\n",
       "    </tr>\n",
       "    <tr>\n",
       "      <td>917</td>\n",
       "      <td>1575842510638</td>\n",
       "      <td>2019-12-08 22:01:50.638</td>\n",
       "      <td>25.020000</td>\n",
       "    </tr>\n",
       "    <tr>\n",
       "      <td>...</td>\n",
       "      <td>...</td>\n",
       "      <td>...</td>\n",
       "      <td>...</td>\n",
       "    </tr>\n",
       "    <tr>\n",
       "      <td>170639</td>\n",
       "      <td>1577633492825</td>\n",
       "      <td>2019-12-29 15:31:32.825</td>\n",
       "      <td>28.200001</td>\n",
       "    </tr>\n",
       "    <tr>\n",
       "      <td>170777</td>\n",
       "      <td>1577635062889</td>\n",
       "      <td>2019-12-29 15:57:42.889</td>\n",
       "      <td>27.930000</td>\n",
       "    </tr>\n",
       "    <tr>\n",
       "      <td>171016</td>\n",
       "      <td>1577637905602</td>\n",
       "      <td>2019-12-29 16:45:05.602</td>\n",
       "      <td>27.879999</td>\n",
       "    </tr>\n",
       "    <tr>\n",
       "      <td>171053</td>\n",
       "      <td>1577638043369</td>\n",
       "      <td>2019-12-29 16:47:23.369</td>\n",
       "      <td>27.930000</td>\n",
       "    </tr>\n",
       "    <tr>\n",
       "      <td>171103</td>\n",
       "      <td>1577638722178</td>\n",
       "      <td>2019-12-29 16:58:42.178</td>\n",
       "      <td>28.080000</td>\n",
       "    </tr>\n",
       "  </tbody>\n",
       "</table>\n",
       "<p>1583 rows × 3 columns</p>\n",
       "</div>"
      ],
      "text/plain": [
       "             utc_time                    time       temp\n",
       "27      1575833151504 2019-12-08 19:25:51.504  25.219999\n",
       "11      1575833311504 2019-12-08 19:28:31.504  25.219999\n",
       "34      1575833678670 2019-12-08 19:34:38.670  25.219999\n",
       "323     1575836631311 2019-12-08 20:23:51.311  25.270000\n",
       "917     1575842510638 2019-12-08 22:01:50.638  25.020000\n",
       "...               ...                     ...        ...\n",
       "170639  1577633492825 2019-12-29 15:31:32.825  28.200001\n",
       "170777  1577635062889 2019-12-29 15:57:42.889  27.930000\n",
       "171016  1577637905602 2019-12-29 16:45:05.602  27.879999\n",
       "171053  1577638043369 2019-12-29 16:47:23.369  27.930000\n",
       "171103  1577638722178 2019-12-29 16:58:42.178  28.080000\n",
       "\n",
       "[1583 rows x 3 columns]"
      ]
     },
     "execution_count": 108,
     "metadata": {},
     "output_type": "execute_result"
    }
   ],
   "source": [
    "df"
   ]
  },
  {
   "cell_type": "code",
   "execution_count": null,
   "metadata": {},
   "outputs": [],
   "source": []
  },
  {
   "cell_type": "code",
   "execution_count": null,
   "metadata": {},
   "outputs": [],
   "source": [
    "\n"
   ]
  }
 ],
 "metadata": {
  "kernelspec": {
   "display_name": "Python 3",
   "language": "python",
   "name": "python3"
  },
  "language_info": {
   "codemirror_mode": {
    "name": "ipython",
    "version": 3
   },
   "file_extension": ".py",
   "mimetype": "text/x-python",
   "name": "python",
   "nbconvert_exporter": "python",
   "pygments_lexer": "ipython3",
   "version": "3.7.4"
  }
 },
 "nbformat": 4,
 "nbformat_minor": 4
}
