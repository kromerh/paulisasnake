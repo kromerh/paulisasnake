{
 "cells": [
  {
   "cell_type": "markdown",
   "metadata": {},
   "source": [
    "# Dashboard - paulisasnake\n",
    "\n",
    "In this project a simple temperature and humidity monitoring system of a python snake enclosure was developed. The temperature and humidity values were read using a smart gadget from Sensirion (https://www.sensirion.com/en/environmental-sensors/humidity-sensors/development-kit/). This device was connected via bluetooth to a Raspberry Pi 3 that stored the data in a MongoDB (version 2.4.14)."
   ]
  }
 ],
 "metadata": {
  "kernelspec": {
   "display_name": "Python 3",
   "language": "python",
   "name": "python3"
  },
  "language_info": {
   "codemirror_mode": {
    "name": "ipython",
    "version": 3
   },
   "file_extension": ".py",
   "mimetype": "text/x-python",
   "name": "python",
   "nbconvert_exporter": "python",
   "pygments_lexer": "ipython3",
   "version": "3.7.4"
  }
 },
 "nbformat": 4,
 "nbformat_minor": 4
}
