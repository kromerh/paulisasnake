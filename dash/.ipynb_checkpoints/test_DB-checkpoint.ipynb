{
 "cells": [
  {
   "cell_type": "code",
   "execution_count": null,
   "metadata": {},
   "outputs": [],
   "source": [
    "import pandas as pd\n",
    "from pymongo import MongoClient\n",
    "\n",
    "\n",
    "def read_mongo_db(hours_to_plot=1):\n",
    "    if hours_to_plot > 0:\n",
    "        # Choose the appropriate client\n",
    "        client = MongoClient()\n",
    "\n",
    "        # Connect to the db paulisasnake\n",
    "        db = client.paulisasnake\n",
    "\n",
    "        # Use the collection temp and humid\n",
    "        coll = db.temp_and_humid\n",
    "\n",
    "        # Bulk inserting documents. Each row in the DataFrame will be a document in Mongo\n",
    "        # coll.insert_many(data.to_dict('records'))\n",
    "\n",
    "\n",
    "        entries_to_read = int(hours_to_plot * 60 * 60 / 10) # readout frequency is 10 seconds\n",
    "        # ====== Finding Documents ====== #\n",
    "        documents = coll.find().sort([('time', -1)]).limit(entries_to_read)\n",
    "\n",
    "        data = pd.DataFrame(list(documents))\n",
    "        data = data[['time', 'temp', 'humid']]\n",
    "\n",
    "        print(entries_to_read,data)\n",
    "\n",
    "        return data\n",
    "    else:\n",
    "        print(\"none\")\n",
    "        \n",
    "        \n",
    "read_mongo_db(hours_to_plot=1)"
   ]
  },
  {
   "cell_type": "code",
   "execution_count": null,
   "metadata": {},
   "outputs": [],
   "source": []
  }
 ],
 "metadata": {
  "kernelspec": {
   "display_name": "Python 3",
   "language": "python",
   "name": "python3"
  },
  "language_info": {
   "codemirror_mode": {
    "name": "ipython",
    "version": 3
   },
   "file_extension": ".py",
   "mimetype": "text/x-python",
   "name": "python",
   "nbconvert_exporter": "python",
   "pygments_lexer": "ipython3",
   "version": "3.7.3"
  }
 },
 "nbformat": 4,
 "nbformat_minor": 4
}
